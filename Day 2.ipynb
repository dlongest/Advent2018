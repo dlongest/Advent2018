{
 "cells": [
  {
   "cell_type": "markdown",
   "metadata": {},
   "source": [
    "# Day 2"
   ]
  },
  {
   "cell_type": "code",
   "execution_count": null,
   "metadata": {
    "collapsed": true
   },
   "outputs": [],
   "source": [
    "from utils import read_input"
   ]
  },
  {
   "cell_type": "code",
   "execution_count": null,
   "metadata": {
    "collapsed": false
   },
   "outputs": [],
   "source": [
    "ids = read_input('Input\\day2-example.txt')"
   ]
  },
  {
   "cell_type": "code",
   "execution_count": null,
   "metadata": {
    "collapsed": true
   },
   "outputs": [],
   "source": [
    "def any_token_appears_exactly(s, target_count):\n",
    "    \n",
    "    # Beginning at start_index in the collection, count the number of contiguous tokens from start_index\n",
    "    # and going to the end of the string.  Example, xxxy for start_index 0 would return 3.  Assumes\n",
    "    # collection has been sorted or ordered to place the desired contiguous sequences together. \n",
    "    def count_contiguous_tokens(collection, start_index):\n",
    "        index = start_index\n",
    "        token = collection[start_index]\n",
    "        \n",
    "        while index < len(collection) and collection[index] == token:\n",
    "            index += 1\n",
    "            \n",
    "        return index - start_index\n",
    "    \n",
    "    tokens = sorted(s)\n",
    "    index = 0\n",
    "      \n",
    "    # We only need to search until we've determined that some token appears the desired target_count\n",
    "    # number of times, but since that is unpredictable we'll search to the end and short circuit the loop\n",
    "    # if we know we're done.\n",
    "    while index < len(tokens) and not appeared:\n",
    "        \n",
    "        count = count_contiguous_tokens(tokens, index)\n",
    "        \n",
    "        if count == target_count:\n",
    "            return True\n",
    "        else:\n",
    "            index += count\n",
    "        \n",
    "    return False   \n",
    "    "
   ]
  },
  {
   "cell_type": "code",
   "execution_count": null,
   "metadata": {
    "collapsed": true
   },
   "outputs": [],
   "source": [
    "def find_first_difference(s, t):\n",
    "    \n",
    "    if len(s) != len(t):\n",
    "        raise Exception('Lengths of strings must match')\n",
    "   \n",
    "    for index, ch in enumerate(s):\n",
    "        if ch != t[index]:\n",
    "            return (True, index)\n",
    "            \n",
    "    return (False, -1)"
   ]
  },
  {
   "cell_type": "code",
   "execution_count": null,
   "metadata": {
    "collapsed": false
   },
   "outputs": [],
   "source": [
    "def part_one():\n",
    "    ids = read_input('Input\\day2.txt')\n",
    "    twos = [any_token_appears_exactly(s, 2) for s in ids]\n",
    "    threes = [any_token_appears_exactly(s, 3) for s in ids]\n",
    "    print 'Twos = {} | Threes = {} | Checksum = {}'.format(sum(twos), sum(threes), sum(twos) * sum(threes))"
   ]
  },
  {
   "cell_type": "code",
   "execution_count": null,
   "metadata": {
    "collapsed": false
   },
   "outputs": [],
   "source": [
    "part_one()"
   ]
  },
  {
   "cell_type": "code",
   "execution_count": null,
   "metadata": {
    "collapsed": false
   },
   "outputs": [],
   "source": [
    "def string_difference(s, t):\n",
    "    \n",
    "    return [1 if ord(ss) - ord(tt) != 0 else 0 for (ss, tt) in zip(s, t)]    \n",
    "\n",
    "def remove_in_common(s, t):\n",
    "    \n",
    "    differences = string_difference(s, t)\n",
    "    \n",
    "    return [s[i] for i, c in enumerate(differences) if c != 1]\n",
    "\n",
    "def part_two():    \n",
    "   \n",
    "    ids = read_input('Input\\day2.txt')\n",
    "    \n",
    "    def find_single_difference(collection, current_index):\n",
    "        \n",
    "        for index in range(current_index + 1, len(collection)):\n",
    "            differences = string_difference(collection[current_index], collection[index])\n",
    "            \n",
    "            if sum(differences) == 1:\n",
    "                return (True, (current_index, index))\n",
    "                              \n",
    "        return (False, None)\n",
    "                           \n",
    "        \n",
    "    for index in range(0, len(ids) - 1):\n",
    "        \n",
    "        (found, indices) = find_single_difference(ids, index)\n",
    "              \n",
    "        if found:\n",
    "            print 'Found single differences matches at {}'.format(indices)\n",
    "            print 'Remaining letters = {}'.format(''.join(remove_in_common(ids[indices[0]], ids[indices[1]])))\n",
    "        \n",
    "    print 'Done'\n",
    "    \n",
    "    \n"
   ]
  },
  {
   "cell_type": "code",
   "execution_count": null,
   "metadata": {
    "collapsed": false
   },
   "outputs": [],
   "source": [
    "part_two()"
   ]
  },
  {
   "cell_type": "code",
   "execution_count": null,
   "metadata": {
    "collapsed": false
   },
   "outputs": [],
   "source": [
    "remove_in_common('abcde', 'axcde')"
   ]
  },
  {
   "cell_type": "code",
   "execution_count": null,
   "metadata": {
    "collapsed": true
   },
   "outputs": [],
   "source": []
  }
 ],
 "metadata": {
  "kernelspec": {
   "display_name": "Python [gl-env]",
   "language": "python",
   "name": "Python [gl-env]"
  },
  "language_info": {
   "codemirror_mode": {
    "name": "ipython",
    "version": 2
   },
   "file_extension": ".py",
   "mimetype": "text/x-python",
   "name": "python",
   "nbconvert_exporter": "python",
   "pygments_lexer": "ipython2",
   "version": "2.7.12"
  }
 },
 "nbformat": 4,
 "nbformat_minor": 0
}
