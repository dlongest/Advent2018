{
 "cells": [
  {
   "cell_type": "markdown",
   "metadata": {},
   "source": [
    "# Day 1\n",
    "\n",
    "In Part 1, the problem calls for a simple sum of all the numbers read int.\n",
    "\n",
    "In Part 2, we have to keep track of all the frequencies we've hit during each step and detect the first duplicate.  The additional condition is that if we haven't reached a duplicate frequency yet, we use the same sequence again, replayed on top of the last frequency we just reached. "
   ]
  },
  {
   "cell_type": "code",
   "execution_count": null,
   "metadata": {
    "collapsed": true
   },
   "outputs": [],
   "source": [
    "def read_numbers(filename):\n",
    "    \n",
    "    f = open(filename)\n",
    "    \n",
    "    lines = []\n",
    "\n",
    "    for line in f.readlines():\n",
    "        line = line.strip('\\n')\n",
    "        \n",
    "        lines.append(int(line))\n",
    "        \n",
    "    return lines"
   ]
  },
  {
   "cell_type": "code",
   "execution_count": null,
   "metadata": {
    "collapsed": false
   },
   "outputs": [],
   "source": [
    "numbers = read_numbers('Input\\day1.txt')"
   ]
  },
  {
   "cell_type": "code",
   "execution_count": null,
   "metadata": {
    "collapsed": false
   },
   "outputs": [],
   "source": [
    "def part_one(numbers):\n",
    "    sum(numbers)"
   ]
  },
  {
   "cell_type": "code",
   "execution_count": null,
   "metadata": {
    "collapsed": true
   },
   "outputs": [],
   "source": [
    "def part_two(numbers, start = 0):\n",
    "    last_number = start\n",
    "    frequencies = set([last_number])    \n",
    "    \n",
    "    # We must find a duplicate frequency so we will have to keep looping until one is found. \n",
    "    while True:\n",
    "        for number in numbers:\n",
    "            \n",
    "            # The new frequency is the last one we reached plus the new one. Since we're using a set to contain \n",
    "            # the previous frequencies and not a running tally, we have to track the last one directly and not \n",
    "            # pull it from the collection\n",
    "            new_frequency = last_number + number         \n",
    "            \n",
    "            # We're done as soon as we see a frequency again. \n",
    "            if new_frequency in frequencies:\n",
    "                print 'Reached frequency {} for a second time'.format(new_frequency)\n",
    "                return\n",
    "            \n",
    "            # Add the new frequency to the set and reflect that as the last one \n",
    "            frequencies.add(new_frequency)\n",
    "            last_number = new_frequency"
   ]
  },
  {
   "cell_type": "code",
   "execution_count": null,
   "metadata": {
    "collapsed": false
   },
   "outputs": [],
   "source": [
    "part_two(numbers)"
   ]
  },
  {
   "cell_type": "code",
   "execution_count": null,
   "metadata": {
    "collapsed": true
   },
   "outputs": [],
   "source": []
  }
 ],
 "metadata": {
  "anaconda-cloud": {},
  "kernelspec": {
   "display_name": "Python [gl-env]",
   "language": "python",
   "name": "Python [gl-env]"
  },
  "language_info": {
   "codemirror_mode": {
    "name": "ipython",
    "version": 2
   },
   "file_extension": ".py",
   "mimetype": "text/x-python",
   "name": "python",
   "nbconvert_exporter": "python",
   "pygments_lexer": "ipython2",
   "version": "2.7.12"
  }
 },
 "nbformat": 4,
 "nbformat_minor": 0
}
