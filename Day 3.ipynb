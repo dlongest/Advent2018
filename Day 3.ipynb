{
 "cells": [
  {
   "cell_type": "markdown",
   "metadata": {},
   "source": [
    "# Day 3\n",
    "\n",
    "In Part 1, we find the coordinates within each fabric swatch that overlap with at least one other and return those and produce a count.  In Part 2, we find the single fabric ID that has no coordinates in common with any others.\n",
    "\n",
    "A somewhat expected interpretation on this problem is to represent it as a grid and then ostensibly you can mark and sweep the grid as you work through each fabric.  Likely you'd need to pre-process the list of fabrics and the coordinates to know how big of a grid to build (which could be quite big) though since everythign is coordinate based you'd have O(1) lookups into any position once you'd initialized the grid.  I went a different way on this, though, and viewed the problem through the lens of set membership.  Basically, each fabric I viewed as comprising a set of coordinates.  I then used set membership functions to compare that set to the sets for other fabrics to ultimately produce a final overlapping set. I don't know that performance or space complexity is much different since in both cases you'd need a structure that holds or represents the coordinates.  Since I hold both the intersected coordinates (the overlaps) and all of them (the union), I'm not really saving space though since every lookup I perform is through the set, I can get O(1) on testing memberships.  A possible optimization is to consider a way to assess the overlap of two fabrics without the need to hold the full set of coordinates thereafter, such as a bounding box overlap algorithm.  \n",
    "\n",
    "In Part 2, the requirement was to find the non-overlapping fabric.  My first function to find the overlapping coords didn't have an easy modification within its logic to add that in.  However, I was able to build on top of it by first finding the overlapping coords, then retesting each fabric to find the fabric whose coordinates were disjoint with the overlapping set, the idea being that the target fabric contributed nothing to the overlapping set so the intersection would be empty.  "
   ]
  },
  {
   "cell_type": "code",
   "execution_count": null,
   "metadata": {
    "collapsed": false
   },
   "outputs": [],
   "source": [
    "from utils import read_input"
   ]
  },
  {
   "cell_type": "code",
   "execution_count": null,
   "metadata": {
    "collapsed": false
   },
   "outputs": [],
   "source": [
    "def parse_input(line):\n",
    "    \n",
    "    # Parts will contain ['#X', '@', 'Y,Z:', 'AxB'] \n",
    "    # where X, Y, Z, A, and B are integers with X as ID, Y and Z as left and top offset, and A and B as box dimensions\n",
    "    parts = line.split()    \n",
    "    \n",
    "    # Split again on # and take the second portion as the ID.  Leave as a string.\n",
    "    fabric_id = parts[0].split('#')[1]\n",
    "    \n",
    "    # Split the offset string on comma.  The first part can be converted to int as-is, for second we must deal with \n",
    "    # the : so we'll just chomp it off using the array subscript\n",
    "    offset = parts[2].split(',')    \n",
    "    upper_left_offset = (int(offset[0]), int(offset[1][:-1]))\n",
    "                        \n",
    "    fabric_size_string = parts[3].split('x')\n",
    "    fabric_size = (int(fabric_size_string[0]), int(fabric_size_string[1]))\n",
    "    \n",
    "    return (fabric_id, upper_left_offset, fabric_size)\n",
    "    \n",
    "    "
   ]
  },
  {
   "cell_type": "code",
   "execution_count": null,
   "metadata": {
    "collapsed": false
   },
   "outputs": [],
   "source": [
    "def all_coords_for_fabric(upper_left_offset, dimensions):\n",
    "    \n",
    "    left_offset, top_offset = upper_left_offset\n",
    "    width, height = dimensions\n",
    "  \n",
    "    coords = set([])\n",
    "    \n",
    "    for x in range(left_offset, left_offset + width):\n",
    "        for y in range(top_offset, top_offset + height):\n",
    "            coords.add((x,y))\n",
    "            \n",
    "    return coords\n",
    "    "
   ]
  },
  {
   "cell_type": "code",
   "execution_count": null,
   "metadata": {
    "collapsed": false
   },
   "outputs": [],
   "source": [
    "# For the given set of fabrics where each fabric is a tuple (<ID>, (<UpperLeftOffset>), (<Dimensions>)), returns\n",
    "# the set of coordinates across all fabrics that overlap (i.e. where the coordinate is used by more than 1 fabric)\n",
    "def find_overlap(fabrics): \n",
    "    \n",
    "    unioned = set([])\n",
    "    overlapped = set([])    \n",
    "    \n",
    "    for fabric in fabrics:\n",
    "        \n",
    "        current = all_coords_for_fabric(fabric[1], fabric[2])\n",
    "        \n",
    "        new_overlapping = unioned.intersection(current)\n",
    "        \n",
    "        unioned = unioned.union(current)\n",
    "\n",
    "        overlapped = overlapped.union(new_overlapping)\n",
    "        \n",
    "    return overlapped\n",
    "\n",
    "# For the given set of fabrics and the set of coordinates that overlap across those fabrics, returns\n",
    "# the first ID of a fabric that is disjoint from the overlap (i.e. that has no coordinates that overlap\n",
    "# any other fabric).\n",
    "def find_non_overlapped(fabrics, overlapped):    \n",
    "           \n",
    "    for fabric in fabrics:\n",
    "        \n",
    "        fabric_coords = all_coords_for_fabric(fabric[1], fabric[2])\n",
    "        \n",
    "        if not fabric_coords.intersection(overlapped):\n",
    "            return fabric[0]\n",
    "        \n",
    "    return None\n",
    "    "
   ]
  },
  {
   "cell_type": "code",
   "execution_count": null,
   "metadata": {
    "collapsed": false
   },
   "outputs": [],
   "source": [
    "def solve():\n",
    "    fabrics = read_input('Input\\day3.txt', parse_input)\n",
    "    \n",
    "    overlapped = find_overlap(fabrics)\n",
    "    \n",
    "    print '{} overlapping units'.format(len(overlapped))\n",
    "    \n",
    "    disjoint_fabric_id = find_non_overlapped(fabrics, overlapped)\n",
    "    \n",
    "    print 'Fabric ID {} has nothing in common with the overlapped coords'.format(disjoint_fabric_id)\n",
    "    \n",
    "    print 'Done'\n",
    "    "
   ]
  },
  {
   "cell_type": "code",
   "execution_count": null,
   "metadata": {
    "collapsed": false
   },
   "outputs": [],
   "source": [
    "solve()"
   ]
  },
  {
   "cell_type": "code",
   "execution_count": null,
   "metadata": {
    "collapsed": true
   },
   "outputs": [],
   "source": []
  }
 ],
 "metadata": {
  "kernelspec": {
   "display_name": "Python [gl-env]",
   "language": "python",
   "name": "Python [gl-env]"
  },
  "language_info": {
   "codemirror_mode": {
    "name": "ipython",
    "version": 2
   },
   "file_extension": ".py",
   "mimetype": "text/x-python",
   "name": "python",
   "nbconvert_exporter": "python",
   "pygments_lexer": "ipython2",
   "version": "2.7.12"
  }
 },
 "nbformat": 4,
 "nbformat_minor": 0
}
